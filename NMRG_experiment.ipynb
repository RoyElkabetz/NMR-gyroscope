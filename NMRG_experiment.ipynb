{
  "nbformat": 4,
  "nbformat_minor": 0,
  "metadata": {
    "colab": {
      "name": "NMRG_experiment.ipynb",
      "provenance": [],
      "collapsed_sections": [],
      "authorship_tag": "ABX9TyNcn4Q1L0SD7QKocgJ+2S13",
      "include_colab_link": true
    },
    "kernelspec": {
      "name": "python3",
      "display_name": "Python 3"
    },
    "language_info": {
      "name": "python"
    }
  },
  "cells": [
    {
      "cell_type": "markdown",
      "metadata": {
        "id": "view-in-github",
        "colab_type": "text"
      },
      "source": [
        "<a href=\"https://colab.research.google.com/github/RoyElkabetz/SEOP-and-NMR/blob/main/NMRG_experiment.ipynb\" target=\"_parent\"><img src=\"https://colab.research.google.com/assets/colab-badge.svg\" alt=\"Open In Colab\"/></a>"
      ]
    },
    {
      "cell_type": "code",
      "metadata": {
        "id": "-lBJ29HXItC-"
      },
      "source": [
        "# from google.colab import drive\n",
        "\n",
        "# drive.mount('/content/gdrive')"
      ],
      "execution_count": 1,
      "outputs": []
    },
    {
      "cell_type": "code",
      "metadata": {
        "id": "J5vKhK8_IvOv"
      },
      "source": [
        "import numpy as np\n",
        "from scipy.integrate import odeint\n",
        "from scipy.linalg import inv\n",
        "import matplotlib.pyplot as plt\n",
        "np.random.seed(14)"
      ],
      "execution_count": 2,
      "outputs": []
    },
    {
      "cell_type": "code",
      "metadata": {
        "id": "Yf9ZVyxbzsEV"
      },
      "source": [
        "# # Physical constants\n",
        "# c = 1\n",
        "# g129 = 1 #-74.4069*1e6       # rad  s^-1 T^-1 http://www.acadiau.ca/~bellis/resources/nmr/isotopes.html\n",
        "# g131 = 1 #22.0564*1e6        # rad  s^-1 T^-1 http://www.acadiau.ca/~bellis/resources/nmr/isotopes.html\n",
        "\n",
        "# # unit conversions\n",
        "# G2T = 1e-4                # Gauss to Tesla conversion. i.e. 5 Gauss * G2T = 5e-4 Tesla\n",
        "# T2G = 1e4                 # Tesla to Gauss conversion. i.e. 5 Tesla * T2G = 5e4 Gauss"
      ],
      "execution_count": 3,
      "outputs": []
    },
    {
      "cell_type": "code",
      "metadata": {
        "id": "-BT2X5sd9FeD"
      },
      "source": [
        "# # useful functions\n",
        "# def l2_norm(a):\n",
        "#   return np.sqrt(np.sum(np.power(a, 2)))"
      ],
      "execution_count": 4,
      "outputs": []
    },
    {
      "cell_type": "code",
      "metadata": {
        "id": "34tDwYdJJ768"
      },
      "source": [
        "# # init a averaged spin\n",
        "# K00 = np.random.randn(3)\n",
        "# K00 /= l2_norm(K00)\n",
        "\n",
        "# # set constant magnetic field\n",
        "# Bx = 0\n",
        "# By = 0\n",
        "# Bz = 1\n",
        "# B = np.array([[0, -Bz, By], \n",
        "#               [Bz, 0, -Bx], \n",
        "#               [-By, Bx, 0]])\n",
        "\n",
        "# # world rotation in z\n",
        "# w0 = 1  \n",
        "# omega_r = np.array([[0, -w0, 0], \n",
        "#                     [w0, 0, 0], \n",
        "#                     [0, 0, 0]])\n",
        "\n",
        "# # drive\n",
        "# wd = 1\n",
        "# omega_d = np.array([[0, 0, wd], \n",
        "#                     [0, 0, 0], \n",
        "#                     [-wd, 0, 0]]) / 2\n",
        "\n",
        "# # set T1, T2\n",
        "# T1 = 30     # s\n",
        "# T2 = 8      # s\n",
        "# Gamma = np.diag(1 / np.array([T2, T2, T1]))\n",
        "# Gamma_se = 0.1 * 1/30              # Hz\n",
        "\n",
        "# # Alkali spin\n",
        "# S = np.array([0, 0, 1])"
      ],
      "execution_count": 5,
      "outputs": []
    },
    {
      "cell_type": "code",
      "metadata": {
        "id": "8NHsNQrxz5Fi"
      },
      "source": [
        "# # NMR dynamics equation\n",
        "# def dK_dt(k, t):\n",
        "#   Rse = Gamma_se * S\n",
        "#   return -(g129 * np.matmul(B, k) + np.matmul(Gamma, k)) + np.matmul(omega_r, k) - np.matmul(omega_d, k) + Rse"
      ],
      "execution_count": 6,
      "outputs": []
    },
    {
      "cell_type": "code",
      "metadata": {
        "id": "ZNaUkjgG4x47"
      },
      "source": [
        "# # solve ODE\n",
        "# ts = np.linspace(0, 10, 10)\n",
        "# K = odeint(dK_dt, K00, ts)\n",
        "# K.shape"
      ],
      "execution_count": 7,
      "outputs": []
    },
    {
      "cell_type": "code",
      "metadata": {
        "id": "WMwonFY75FhR"
      },
      "source": [
        "# # Plot the spin solution\n",
        "# plt.rcParams.update({'font.size': 14})  # increase the font size\n",
        "# plt.figure(figsize=(15, 8))\n",
        "# plt.xlabel(\"t\")\n",
        "# plt.ylabel(\"$K$\")\n",
        "# plt.plot(ts, K[:, 0], label='$K_x$')\n",
        "# plt.plot(ts, K[:, 1], label='$K_y$')\n",
        "# plt.plot(ts, K[:, 2], label='$K_z$')\n",
        "# plt.legend()\n",
        "# plt.show()"
      ],
      "execution_count": 8,
      "outputs": []
    },
    {
      "cell_type": "markdown",
      "metadata": {
        "id": "soA2Oml_NiSv"
      },
      "source": [
        "# Single specie without magnetic noise simulation\n",
        "\n",
        "In this simulation we assume there is no magnetic noise and no effective magnetic field of the alkali spin. Then, the phase of the Xenon with respect to the drive is given by\n",
        "\n",
        "\\begin{align}\n",
        "    \\phi_{129} &= -\\frac{\\gamma^{129}_{Xe}B_0}{\\Gamma_2^{129}}-\\frac{\\omega_r}{\\Gamma_2^{129}}+\\frac{\\omega^{129}_{rf}}{\\Gamma_2^{129}}\n",
        "\\end{align}\n"
      ]
    },
    {
      "cell_type": "code",
      "metadata": {
        "id": "I6SvcpvMOhwP"
      },
      "source": [
        "class Xenon:\n",
        "  def __init__(self, gamma, t1, t2, K0=np.array([0.05, 0.03, 0.95]), name='129'):\n",
        "    \n",
        "    self.name = name\n",
        "    # Physical parameters\n",
        "    self.gamma = gamma      # The xenon gyromagnetic ration   [rad  s^-1 T^-1] \n",
        "    \n",
        "    # Decays\n",
        "    self.t1 = t1            # T1 of xenon                     [s]\n",
        "    self.t2 = t2            # T2 of xenon                     [s]\n",
        "    self.gamma1 = 1. / t1   #                                 [s^-1]\n",
        "    self.gamma2 = 1. / t2   #                                 [s^-1]\n",
        "    \n",
        "    # System parameters\n",
        "    self.w0 = 0          # Larmor frequency                [rad  s^-1]\n",
        "    self.wd_x = 0        # x drive frequency               [rad  s^-1]\n",
        "    self.Ad_x = 0        # x drive amplitude               [s^-1]\n",
        "    self.wd_y = 0        # y drive frequency               [rad  s^-1]\n",
        "    self.Ad_y = 0        # y drive amplitude               [s^-1]\n",
        "    \n",
        "    # Spin polarization\n",
        "    self.K = K0\n",
        "    self.Rse = np.array([0, 0, 0])\n",
        "\n",
        "    # Bloch matrix\n",
        "    self.M = np.zeros((3, 3))\n",
        "\n",
        "  def set_z_bias_field(self, B0):\n",
        "    \"\"\"Set z bias field\"\"\"\n",
        "    self.w0 = self.gamma * B0\n",
        "\n",
        "  def set_x_drive_field(self, drive_amplitude, drive_frequency):\n",
        "    \"\"\"Set NMR x drive\"\"\"\n",
        "    assert (self.wd_y == 0 and self.Ad_y == 0)\n",
        "    self.Ad_x = drive_amplitude\n",
        "    self.wd_x = drive_frequency\n",
        "\n",
        "  def set_y_drive_field(self, drive_amplitude, drive_frequency):\n",
        "    \"\"\"Set NMR y drive\"\"\"\n",
        "    assert (self.wd_x == 0 and self.Ad_x == 0)\n",
        "    self.Ad_y = drive_amplitude\n",
        "    self.wd_y = drive_frequency\n",
        "\n",
        "  def set_spin_exchange_amp(self, rse):\n",
        "    \"\"\"Set spin exchange pumping\"\"\"\n",
        "    self.Rse = rse\n",
        "\n",
        "  def set_bloch_matrix(self, wr):\n",
        "    \"\"\"Constructing the Bloch matrix of the dynamics\"\"\"\n",
        "    M = np.array(\n",
        "        [\n",
        "          [-self.gamma2 , 0              , -self.Ad_y / 2],\n",
        "          [0            , -self.gamma2   , self.Ad_x / 2 ],\n",
        "          [self.Ad_y / 2, -self.Ad_x / 2., -self.gamma1  ] \n",
        "          ]\n",
        "    )\n",
        "    M12 = self.w0 + wr - self.wd_x - self.wd_y\n",
        "    M[0, 1] = M12\n",
        "    M[1, 0] = -M12\n",
        "    self.M = M\n",
        "\n",
        "  def bloch_equations(self, K, t):\n",
        "    \"\"\"Bloch dynamics model\"\"\"\n",
        "    dK_dt = np.matmul(self.M, K) + self.Rse\n",
        "    return dK_dt\n",
        "  \n",
        "  def solve_dynamics(self, ts):\n",
        "    Kt = self.K\n",
        "    Kt = odeint(self.bloch_equations, Kt, ts)\n",
        "    return Kt\n",
        "\n",
        "  def solve_steady_state(self):\n",
        "    K_steady_state = -inv(self.M) @ self.Rse\n",
        "    print(K_steady_state)\n",
        "\n"
      ],
      "execution_count": 47,
      "outputs": []
    },
    {
      "cell_type": "code",
      "metadata": {
        "id": "fGZD34fAUwVL"
      },
      "source": [
        "g129 = 1 #-74.4069*1e6       # rad  s^-1 T^-1 http://www.acadiau.ca/~bellis/resources/nmr/isotopes.html\n",
        "t1 = 30    # s\n",
        "t2 = 10      # s\n",
        "B0 = 1\n",
        "wr = 0\n",
        "Ad = 1\n",
        "wd = 4.3\n",
        "Rse = np.array([0, 0, 1]) / t1\n",
        "\n",
        "Xe129 = Xenon(gamma=g129, t1=t1, t2=t2, name='129')\n",
        "Xe129.set_z_bias_field(B0)\n",
        "Xe129.set_y_drive_field(Ad, wd)\n",
        "Xe129.set_bloch_matrix(wr)\n",
        "Xe129.set_spin_exchange_amp(Rse)"
      ],
      "execution_count": 110,
      "outputs": []
    },
    {
      "cell_type": "code",
      "metadata": {
        "colab": {
          "base_uri": "https://localhost:8080/"
        },
        "id": "1EW5q5DJdEcT",
        "outputId": "6f52b529-a7ca-47a1-bf3b-2702418aa46e"
      },
      "source": [
        "# solve ODE\n",
        "ts = np.linspace(0, 200, 1000)\n",
        "K = Xe129.solve_dynamics(ts)\n",
        "K.shape"
      ],
      "execution_count": 111,
      "outputs": [
        {
          "output_type": "execute_result",
          "data": {
            "text/plain": [
              "(1000, 3)"
            ]
          },
          "metadata": {
            "tags": []
          },
          "execution_count": 111
        }
      ]
    },
    {
      "cell_type": "code",
      "metadata": {
        "colab": {
          "base_uri": "https://localhost:8080/",
          "height": 506
        },
        "id": "sWnozi3Xe0Ah",
        "outputId": "eca033e9-6317-4075-c052-d2f69aecc1f5"
      },
      "source": [
        "# Plot the spin solution\n",
        "plt.rcParams.update({'font.size': 14})  # increase the font size\n",
        "plt.figure(figsize=(15, 8))\n",
        "plt.xlabel(\"t\")\n",
        "plt.ylabel(\"$K$\")\n",
        "plt.plot(ts, K[:, 0], label='$K_x$')\n",
        "plt.plot(ts, K[:, 1], label='$K_y$')\n",
        "plt.plot(ts, K[:, 2], label='$K_z$')\n",
        "plt.legend()\n",
        "plt.show()"
      ],
      "execution_count": 112,
      "outputs": [
        {
          "output_type": "display_data",
          "data": {
            "image/png": "[encoded data removed]",
            "text/plain": [
              "<Figure size 1080x576 with 1 Axes>"
            ]
          },
          "metadata": {
            "tags": [],
            "needs_background": "light"
          }
        }
      ]
    },
    {
      "cell_type": "code",
      "metadata": {
        "id": "aApVJ8pUnEpM",
        "colab": {
          "base_uri": "https://localhost:8080/"
        },
        "outputId": "28dffef2-f349-43f2-cac1-fb777fb31424"
      },
      "source": [
        "Xe129.solve_steady_state()"
      ],
      "execution_count": 113,
      "outputs": [
        {
          "output_type": "stream",
          "text": [
            "[-0.00429185 -0.1416309   0.93562232]\n"
          ],
          "name": "stdout"
        }
      ]
    },
    {
      "cell_type": "code",
      "metadata": {
        "colab": {
          "base_uri": "https://localhost:8080/"
        },
        "id": "TjqCS9riJvWS",
        "outputId": "9b57b053-848b-44c7-9a07-2d7fbf723195"
      },
      "source": [
        "K[-1, :]"
      ],
      "execution_count": 114,
      "outputs": [
        {
          "output_type": "execute_result",
          "data": {
            "text/plain": [
              "array([-0.00429181, -0.1416293 ,  0.93561178])"
            ]
          },
          "metadata": {
            "tags": []
          },
          "execution_count": 114
        }
      ]
    },
    {
      "cell_type": "code",
      "metadata": {
        "colab": {
          "base_uri": "https://localhost:8080/"
        },
        "id": "9QBCMiRbJ-6T",
        "outputId": "16333f97-189f-4a82-bfcd-8e90aec4abde"
      },
      "source": [
        "Xe129.M"
      ],
      "execution_count": 115,
      "outputs": [
        {
          "output_type": "execute_result",
          "data": {
            "text/plain": [
              "array([[-0.1       , -3.3       , -0.5       ],\n",
              "       [ 3.3       , -0.1       ,  0.        ],\n",
              "       [ 0.5       ,  0.        , -0.03333333]])"
            ]
          },
          "metadata": {
            "tags": []
          },
          "execution_count": 115
        }
      ]
    },
    {
      "cell_type": "code",
      "metadata": {
        "colab": {
          "base_uri": "https://localhost:8080/"
        },
        "id": "i_FzjADsMAQg",
        "outputId": "b0009f54-722b-4e0d-bf31-08bd17b7611d"
      },
      "source": [
        "np.arctan(K[-1, 1] / K[-1, 0])"
      ],
      "execution_count": 116,
      "outputs": [
        {
          "output_type": "execute_result",
          "data": {
            "text/plain": [
              "1.5405024480057323"
            ]
          },
          "metadata": {
            "tags": []
          },
          "execution_count": 116
        }
      ]
    },
    {
      "cell_type": "code",
      "metadata": {
        "id": "Vf5TvzQ1Rsbs",
        "outputId": "5a3f8bd0-9192-44c4-a5d2-8502ecb5d848",
        "colab": {
          "base_uri": "https://localhost:8080/"
        }
      },
      "source": [
        "phi = -Xe129.M[0, 1] / Xe129.gamma2\n",
        "phi"
      ],
      "execution_count": 117,
      "outputs": [
        {
          "output_type": "execute_result",
          "data": {
            "text/plain": [
              "32.99999999999999"
            ]
          },
          "metadata": {
            "tags": []
          },
          "execution_count": 117
        }
      ]
    },
    {
      "cell_type": "code",
      "metadata": {
        "id": "MHZVe14TSSFH",
        "outputId": "6bd74ec5-68c6-4d69-9088-090e932ff486",
        "colab": {
          "base_uri": "https://localhost:8080/"
        }
      },
      "source": [
        "K[-1, 1] / K[-1, 0]"
      ],
      "execution_count": 118,
      "outputs": [
        {
          "output_type": "execute_result",
          "data": {
            "text/plain": [
              "32.99987043178397"
            ]
          },
          "metadata": {
            "tags": []
          },
          "execution_count": 118
        }
      ]
    },
    {
      "cell_type": "code",
      "metadata": {
        "id": "2TjXfPmVSl0l"
      },
      "source": [
        ""
      ],
      "execution_count": null,
      "outputs": []
    }
  ]
}