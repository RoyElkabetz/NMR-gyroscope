{
  "nbformat": 4,
  "nbformat_minor": 0,
  "metadata": {
    "colab": {
      "name": "NMRG_experiment.ipynb",
      "provenance": [],
      "collapsed_sections": [],
      "authorship_tag": "ABX9TyMu+DaivA8PUlcpfxPBufY6",
      "include_colab_link": true
    },
    "kernelspec": {
      "name": "python3",
      "display_name": "Python 3"
    },
    "language_info": {
      "name": "python"
    }
  },
  "cells": [
    {
      "cell_type": "markdown",
      "metadata": {
        "id": "view-in-github",
        "colab_type": "text"
      },
      "source": [
        "<a href=\"https://colab.research.google.com/github/RoyElkabetz/SEOP-and-NMR/blob/main/NMRG_experiment.ipynb\" target=\"_parent\"><img src=\"https://colab.research.google.com/assets/colab-badge.svg\" alt=\"Open In Colab\"/></a>"
      ]
    },
    {
      "cell_type": "code",
      "metadata": {
        "id": "-lBJ29HXItC-"
      },
      "source": [
        "# from google.colab import drive\n",
        "\n",
        "# drive.mount('/content/gdrive')"
      ],
      "execution_count": 1,
      "outputs": []
    },
    {
      "cell_type": "code",
      "metadata": {
        "id": "J5vKhK8_IvOv"
      },
      "source": [
        "import numpy as np\n",
        "from scipy.integrate import odeint\n",
        "from scipy.linalg import inv\n",
        "import matplotlib.pyplot as plt\n",
        "np.random.seed(14)"
      ],
      "execution_count": 2,
      "outputs": []
    },
    {
      "cell_type": "code",
      "metadata": {
        "id": "Yf9ZVyxbzsEV"
      },
      "source": [
        "# Physical constants\n",
        "c = 1\n",
        "g129 = 1 #-74.4069*1e6       # rad  s^-1 T^-1 http://www.acadiau.ca/~bellis/resources/nmr/isotopes.html\n",
        "g131 = 1 #22.0564*1e6        # rad  s^-1 T^-1 http://www.acadiau.ca/~bellis/resources/nmr/isotopes.html\n",
        "\n",
        "# unit conversions\n",
        "G2T = 1e-4                # Gauss to Tesla conversion. i.e. 5 Gauss * G2T = 5e-4 Tesla\n",
        "T2G = 1e4                 # Tesla to Gauss conversion. i.e. 5 Tesla * T2G = 5e4 Gauss"
      ],
      "execution_count": 371,
      "outputs": []
    },
    {
      "cell_type": "code",
      "metadata": {
        "id": "-BT2X5sd9FeD"
      },
      "source": [
        "# useful functions\n",
        "def l2_norm(a):\n",
        "  return np.sqrt(np.sum(np.power(a, 2)))"
      ],
      "execution_count": 372,
      "outputs": []
    },
    {
      "cell_type": "code",
      "metadata": {
        "id": "34tDwYdJJ768"
      },
      "source": [
        "# init a averaged spin\n",
        "K00 = np.random.randn(3)\n",
        "K00 /= l2_norm(K00)\n",
        "\n",
        "# set constant magnetic field\n",
        "Bx = 0\n",
        "By = 0\n",
        "Bz = 1\n",
        "B = np.array([[0, -Bz, By], \n",
        "              [Bz, 0, -Bx], \n",
        "              [-By, Bx, 0]])\n",
        "\n",
        "# world rotation in z\n",
        "w0 = 1  \n",
        "omega_r = np.array([[0, -w0, 0], \n",
        "                    [w0, 0, 0], \n",
        "                    [0, 0, 0]])\n",
        "\n",
        "# drive\n",
        "wd = 1\n",
        "omega_d = np.array([[0, 0, wd], \n",
        "                    [0, 0, 0], \n",
        "                    [-wd, 0, 0]]) / 2\n",
        "\n",
        "# set T1, T2\n",
        "T1 = 30     # s\n",
        "T2 = 8      # s\n",
        "Gamma = np.diag(1 / np.array([T2, T2, T1]))\n",
        "Gamma_se = 0.1 * 1/30              # Hz\n",
        "\n",
        "# Alkali spin\n",
        "S = np.array([0, 0, 1])"
      ],
      "execution_count": 373,
      "outputs": []
    },
    {
      "cell_type": "code",
      "metadata": {
        "id": "8NHsNQrxz5Fi"
      },
      "source": [
        "# NMR dynamics equation\n",
        "def dK_dt(k, t):\n",
        "  Rse = Gamma_se * S\n",
        "  return -(g129 * np.matmul(B, k) + np.matmul(Gamma, k)) + np.matmul(omega_r, k) - np.matmul(omega_d, k) + Rse"
      ],
      "execution_count": 374,
      "outputs": []
    },
    {
      "cell_type": "code",
      "metadata": {
        "colab": {
          "base_uri": "https://localhost:8080/"
        },
        "id": "ZNaUkjgG4x47",
        "outputId": "cdf4a592-c66a-4fde-cf7b-a91e16d25521"
      },
      "source": [
        "# solve ODE\n",
        "ts = np.linspace(0, 100, 1000)\n",
        "K = odeint(dK_dt, K00, ts)\n",
        "K.shape"
      ],
      "execution_count": 377,
      "outputs": [
        {
          "output_type": "execute_result",
          "data": {
            "text/plain": [
              "(1000, 3)"
            ]
          },
          "metadata": {
            "tags": []
          },
          "execution_count": 377
        }
      ]
    },
    {
      "cell_type": "code",
      "metadata": {
        "colab": {
          "base_uri": "https://localhost:8080/",
          "height": 505
        },
        "id": "WMwonFY75FhR",
        "outputId": "1146e7b5-819f-4fda-deb3-19be57ee02d8"
      },
      "source": [
        "# Plot the spin solution\n",
        "plt.rcParams.update({'font.size': 14})  # increase the font size\n",
        "plt.figure(figsize=(15, 8))\n",
        "plt.xlabel(\"t\")\n",
        "plt.ylabel(\"$K$\")\n",
        "plt.plot(ts, K[:, 0], label='$K_x$')\n",
        "plt.plot(ts, K[:, 1], label='$K_y$')\n",
        "plt.plot(ts, K[:, 2], label='$K_z$')\n",
        "plt.legend()\n",
        "plt.show()"
      ],
      "execution_count": 378,
      "outputs": [
        {
          "output_type": "display_data",
          "data": {
            "image/png": "[encoded data removed]",
            "text/plain": [
              "<Figure size 1080x576 with 1 Axes>"
            ]
          },
          "metadata": {
            "tags": [],
            "needs_background": "light"
          }
        }
      ]
    },
    {
      "cell_type": "markdown",
      "metadata": {
        "id": "soA2Oml_NiSv"
      },
      "source": [
        "# Single specie without magnetic noise simulation\n",
        "\n",
        "In this simulation we assume there is no magnetic noise and no effective magnetic field of the alkali spin. Then, the phase of the Xenon with respect to the drive is given by\n",
        "\n",
        "\\begin{align}\n",
        "    \\phi_{129} &= -\\frac{\\gamma^{129}_{Xe}B_0}{\\Gamma_2^{129}}-\\frac{\\omega_r}{\\Gamma_2^{129}}+\\frac{\\omega^{129}_{rf}}{\\Gamma_2^{129}}\n",
        "\\end{align}\n"
      ]
    },
    {
      "cell_type": "code",
      "metadata": {
        "id": "WA62OVJIlcW_"
      },
      "source": [
        "# symbols\n",
        "pi_c = chr(960)\n",
        "phi_c = chr(966)\n",
        "omega_c = chr(969)\n",
        "big_omega_c = chr(937)\n",
        "\n",
        "\n",
        "# physical units and constants\n",
        "g129 = -74.4069*1e6       # rad  s^-1 T^-1 http://www.acadiau.ca/~bellis/resources/nmr/isotopes.html\n",
        "g131 = 22.0564*1e6        # rad  s^-1 T^-1 http://www.acadiau.ca/~bellis/resources/nmr/isotopes.html\n",
        "G2T = 1e-4\n",
        "T2G = 1e4\n"
      ],
      "execution_count": 197,
      "outputs": []
    },
    {
      "cell_type": "code",
      "metadata": {
        "id": "I6SvcpvMOhwP"
      },
      "source": [
        "class Xenon:\n",
        "  def __init__(self, gamma, t1, t2, K0=np.array([0.05, 0.03, 0.95]), name='129'):\n",
        "    \n",
        "    self.name = name\n",
        "    # Physical parameters\n",
        "    self.gamma = gamma      # The xenon gyromagnetic ration   [rad  s^-1 T^-1] \n",
        "    \n",
        "    # Decays\n",
        "    self.t1 = t1            # T1 of xenon                     [s]\n",
        "    self.t2 = t2            # T2 of xenon                     [s]\n",
        "    self.gamma1 = 1. / t1   #                                 [s^-1]\n",
        "    self.gamma2 = 1. / t2   #                                 [s^-1]\n",
        "    \n",
        "    # System parameters\n",
        "    self.w0 = 0          # Larmor frequency                [rad  s^-1]\n",
        "    self.wd_x = 0        # x drive frequency               [rad  s^-1]\n",
        "    self.Ad_x = 0        # x drive amplitude               [s^-1]\n",
        "    self.wd_y = 0        # y drive frequency               [rad  s^-1]\n",
        "    self.Ad_y = 0        # y drive amplitude               [s^-1]\n",
        "    \n",
        "    # Spin polarization\n",
        "    self.K = K0\n",
        "    self.Kt = np.zeros((3, ))\n",
        "    self.Ksteady = None\n",
        "    self.Rse = np.array([0, 0, 0])\n",
        "\n",
        "    # Bloch matrix\n",
        "    self.M = np.zeros((3, 3))\n",
        "\n",
        "    # boolean params\n",
        "    self.drive = True\n",
        "\n",
        "  def set_z_bias_field(self, B0):\n",
        "    \"\"\"Set z bias field\"\"\"\n",
        "    self.w0 = self.gamma * B0\n",
        "\n",
        "  def set_x_drive_field(self, drive_amplitude, drive_frequency):\n",
        "    \"\"\"Set NMR x drive\"\"\"\n",
        "    assert (self.wd_y == 0 and self.Ad_y == 0)\n",
        "    self.Ad_x = drive_amplitude\n",
        "    self.wd_x = drive_frequency\n",
        "\n",
        "  def set_y_drive_field(self, drive_amplitude, drive_frequency):\n",
        "    \"\"\"Set NMR y drive\"\"\"\n",
        "    assert (self.wd_x == 0 and self.Ad_x == 0)\n",
        "    self.Ad_y = drive_amplitude\n",
        "    self.wd_y = drive_frequency\n",
        "\n",
        "  def set_spin_exchange_amp(self, rse):\n",
        "    \"\"\"Set spin exchange pumping\"\"\"\n",
        "    self.Rse = rse\n",
        "\n",
        "  def set_bloch_matrix(self, B0, wr):\n",
        "    \"\"\"Constructing the Bloch matrix of the dynamics\"\"\"\n",
        "    M = np.array(\n",
        "        [\n",
        "          [-self.gamma2 , 0              , 0             ],\n",
        "          [0            , -self.gamma2   , 0             ],\n",
        "          [0            , 0              , -self.gamma1  ] \n",
        "          ]\n",
        "    )\n",
        "    M12 = self.gamma * B0 + wr\n",
        "    if self.drive:\n",
        "      M[0, 2] = -self.Ad_y / 2.\n",
        "      M[1, 2] = self.Ad_x / 2.\n",
        "      M[2, 0] = self.Ad_y / 2.\n",
        "      M[2, 1] = -self.Ad_x / 2.\n",
        "      M12 = M12  - self.wd_x - self.wd_y\n",
        "\n",
        "    M[0, 1] = M12\n",
        "    M[1, 0] = -M12\n",
        "    self.M = M\n",
        "\n",
        "  def bloch_equations(self, K, t):\n",
        "    \"\"\"Bloch dynamics model\"\"\"\n",
        "    dK_dt = np.matmul(self.M, K) + self.Rse\n",
        "    return dK_dt\n",
        "  \n",
        "  def solve_dynamics(self, ts):\n",
        "    Kt = self.K\n",
        "    Kt = odeint(self.bloch_equations, Kt, ts)\n",
        "    self.Kt = Kt[-1, :]\n",
        "    return Kt\n",
        "\n",
        "  def solve_steady_state(self):\n",
        "    self.Ksteady = -inv(self.M) @ self.Rse\n",
        "  \n",
        "  def display_params(self):\n",
        "    print('===================================================================')\n",
        "    print(f'| Xenon {self.name}:')\n",
        "    print(f'| ----------')\n",
        "    print(f'| gyromagnetic ratio:     {self.gamma}')\n",
        "    print(f'| T1:                     {self.t1}')\n",
        "    print(f'| T2:                     {self.t2}')\n",
        "    print(f'| {omega_c}d_x:                   {self.wd_x}')\n",
        "    print(f'| {big_omega_c}d_x:                   {self.Ad_x}')\n",
        "    print(f'| {omega_c}d_y:                   {self.wd_y}')\n",
        "    print(f'| {big_omega_c}d_y:                   {self.Ad_y}')\n",
        "    print(f'| use drive:              {self.drive}')\n",
        "    print(f'| K0:                     {self.K}')\n",
        "    print(f'| Kt:                     {self.Kt}')\n",
        "    print(f'| K steady:               {self.Ksteady}')\n",
        "    print('===================================================================')\n",
        "\n"
      ],
      "execution_count": 394,
      "outputs": []
    },
    {
      "cell_type": "code",
      "metadata": {
        "id": "fGZD34fAUwVL"
      },
      "source": [
        "g129 = 1\n",
        "t1 = 30    # s\n",
        "t2 = 8     # s\n",
        "B0 = 1 * G2T\n",
        "wr = 0.001\n",
        "Ad = 2 * np.sqrt((1 / t1) * (1 / t2))\n",
        "wd = g129 * 1 * G2T\n",
        "Rse = np.array([0, 0, 0.1]) * t1\n",
        "\n",
        "\n",
        "Xe129 = Xenon(gamma=g129, t1=t1, t2=t2, name='129')\n",
        "#Xe129.drive = False\n",
        "Xe129.K = np.array([-0.0259, 0.00, 0.05])\n",
        "Xe129.set_z_bias_field(B0)\n",
        "Xe129.set_y_drive_field(Ad, wd)\n",
        "Xe129.set_bloch_matrix(B0, wr)\n",
        "Xe129.set_spin_exchange_amp(Rse)\n",
        "Xe129.solve_steady_state()\n"
      ],
      "execution_count": 498,
      "outputs": []
    },
    {
      "cell_type": "code",
      "metadata": {
        "id": "1EW5q5DJdEcT"
      },
      "source": [
        "# solve ODE\n",
        "ts = np.linspace(0, 200, 3000)\n",
        "Kt = Xe129.solve_dynamics(ts)"
      ],
      "execution_count": 499,
      "outputs": []
    },
    {
      "cell_type": "code",
      "metadata": {
        "colab": {
          "base_uri": "https://localhost:8080/",
          "height": 418
        },
        "id": "sWnozi3Xe0Ah",
        "outputId": "143a267d-adab-4329-a3a7-9b8fc82d281b"
      },
      "source": [
        "# Plot the spin solution\n",
        "plt.rcParams.update({'font.size': 14})  # increase the font size\n",
        "fig = plt.figure(figsize=(20, 6))\n",
        "\n",
        "ax1 = plt.subplot(131)\n",
        "ax1.set_title('Kx, Ky, Kz')\n",
        "ax1.set_xlabel(\"t\")\n",
        "ax1.set_ylabel(\"$K$\")\n",
        "ax1.plot(ts, Kt[:, 0], label='$K_x$')\n",
        "ax1.plot(ts, Kt[:, 1], label='$K_y$')\n",
        "ax1.plot(ts, Kt[:, 2], label='$K_z$')\n",
        "ax1.legend()\n",
        "\n",
        "\n",
        "r = np.sqrt(Kt[:, 0] ** 2 + Kt[:, 1] ** 2)\n",
        "ax2 = plt.subplot(132)\n",
        "ax2.plot(ts, r)\n",
        "ax2.grid(True)\n",
        "ax2.set_title('$|K_{\\perp}(t)|$')\n",
        "\n",
        "phi = np.arctan(Kt[:, 1] / Kt[:, 0])\n",
        "ax3 = plt.subplot(133)\n",
        "ax3.plot(ts, phi)\n",
        "ax3.grid(True)\n",
        "ax3.set_title('$\\phi$')\n",
        "\n",
        "plt.tight_layout\n",
        "plt.show()"
      ],
      "execution_count": 500,
      "outputs": [
        {
          "output_type": "display_data",
          "data": {
            "image/png": "[encoded data removed]",
            "text/plain": [
              "<Figure size 1440x432 with 3 Axes>"
            ]
          },
          "metadata": {
            "tags": [],
            "needs_background": "light"
          }
        }
      ]
    },
    {
      "cell_type": "code",
      "metadata": {
        "id": "aApVJ8pUnEpM",
        "colab": {
          "base_uri": "https://localhost:8080/"
        },
        "outputId": "83ef3611-90a0-4e7f-ff0c-4cbf4c8451bf"
      },
      "source": [
        "print('_________________________________________________________________')\n",
        "print('| steady state solution: {}'.format(Xe129.Ksteady))\n",
        "print('| ODE solution:          {}'.format(Xe129.Kt))\n",
        "print('| phase:                 {}'.format(np.arctan(Xe129.Kt[1] / Xe129.Kt[0])))\n",
        "print('| phase (exact):         {}'.format(np.arctan(-Xe129.M[0, 1] / Xe129.gamma2)))\n",
        "print('| M12:                   {}'.format(Xe129.M[0, 1]))\n",
        "print('| -M12 / Gamma2:         {}'.format(-Xe129.M[0, 1] / Xe129.gamma2))\n",
        "print('_________________________________________________________________')"
      ],
      "execution_count": 482,
      "outputs": [
        {
          "output_type": "stream",
          "text": [
            "_________________________________________________________________\n",
            "| steady state solution: [-23.23715649   0.18589725  45.00143995]\n",
            "| ODE solution:          [-23.23715765   0.1858972   45.00144506]\n",
            "| phase:                 -0.007999826634518252\n",
            "| phase (exact):         -0.007999829339886634\n",
            "| M12:                   0.001\n",
            "| -M12 / Gamma2:         -0.008\n",
            "_________________________________________________________________\n"
          ],
          "name": "stdout"
        }
      ]
    },
    {
      "cell_type": "code",
      "metadata": {
        "colab": {
          "base_uri": "https://localhost:8080/"
        },
        "id": "i-E0G1Mxjwch",
        "outputId": "00179667-d6d6-4df9-fc4d-b12c1a5edee9"
      },
      "source": [
        "Xe129.display_params()"
      ],
      "execution_count": 483,
      "outputs": [
        {
          "output_type": "stream",
          "text": [
            "===================================================================\n",
            "| Xenon 129:\n",
            "| ----------\n",
            "| gyromagnetic ratio:     1\n",
            "| T1:                     30\n",
            "| T2:                     8\n",
            "| ωd_x:                   0\n",
            "| Ωd_x:                   0\n",
            "| ωd_y:                   0.0001\n",
            "| Ωd_y:                   0.12909944487358055\n",
            "| use drive:              True\n",
            "| K0:                     [-0.0259  0.      0.05  ]\n",
            "| Kt:                     [-23.23715765   0.1858972   45.00144506]\n",
            "| K steady:               [-23.23715649   0.18589725  45.00143995]\n",
            "===================================================================\n"
          ],
          "name": "stdout"
        }
      ]
    },
    {
      "cell_type": "code",
      "metadata": {
        "colab": {
          "base_uri": "https://localhost:8080/"
        },
        "id": "YYoOERz_peSI",
        "outputId": "6f6a1e66-d4c1-497f-a3a1-151c4ef86925"
      },
      "source": [
        "Xe129.M"
      ],
      "execution_count": 484,
      "outputs": [
        {
          "output_type": "execute_result",
          "data": {
            "text/plain": [
              "array([[-0.125     ,  0.001     , -0.06454972],\n",
              "       [-0.001     , -0.125     ,  0.        ],\n",
              "       [ 0.06454972,  0.        , -0.03333333]])"
            ]
          },
          "metadata": {
            "tags": []
          },
          "execution_count": 484
        }
      ]
    },
    {
      "cell_type": "code",
      "metadata": {
        "colab": {
          "base_uri": "https://localhost:8080/"
        },
        "id": "5cCwqg324w5Z",
        "outputId": "35053955-07c3-4532-af92-48b93dbed67a"
      },
      "source": [
        "Xe129.w0, wr"
      ],
      "execution_count": 485,
      "outputs": [
        {
          "output_type": "execute_result",
          "data": {
            "text/plain": [
              "(0.0001, 0.001)"
            ]
          },
          "metadata": {
            "tags": []
          },
          "execution_count": 485
        }
      ]
    },
    {
      "cell_type": "code",
      "metadata": {
        "id": "5APuPMDF7LOY"
      },
      "source": [
        ""
      ],
      "execution_count": null,
      "outputs": []
    }
  ]
}