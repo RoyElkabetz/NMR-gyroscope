{
  "nbformat": 4,
  "nbformat_minor": 0,
  "metadata": {
    "colab": {
      "name": "PID_and_LIA.ipynb",
      "provenance": [],
      "collapsed_sections": [],
      "authorship_tag": "ABX9TyMRgX/MJK6rI+zWL2ToXACD",
      "include_colab_link": true
    },
    "kernelspec": {
      "name": "python3",
      "display_name": "Python 3"
    },
    "language_info": {
      "name": "python"
    }
  },
  "cells": [
    {
      "cell_type": "markdown",
      "metadata": {
        "id": "view-in-github",
        "colab_type": "text"
      },
      "source": [
        "<a href=\"https://colab.research.google.com/github/RoyElkabetz/SEOP-and-NMR/blob/main/PID_and_LIA.ipynb\" target=\"_parent\"><img src=\"https://colab.research.google.com/assets/colab-badge.svg\" alt=\"Open In Colab\"/></a>"
      ]
    },
    {
      "cell_type": "code",
      "metadata": {
        "id": "h0zOnC7Jzxg6"
      },
      "source": [
        "import numpy as np\n",
        "import matplotlib.pyplot as plt\n",
        "import json\n",
        "import time\n",
        "\n",
        "np.random.seed(216)"
      ],
      "execution_count": 3,
      "outputs": []
    },
    {
      "cell_type": "markdown",
      "metadata": {
        "id": "HHrCxMff1jJC"
      },
      "source": [
        "The PID equation is given by\n",
        "\n",
        "\\begin{align}\n",
        "    MV_k &= \\overline{MV} + K_P \\epsilon_k + K_I \\sum_{k'=0}^{k}\\epsilon_{k'}\\left(t_k - t_{k-1}\\right) + K_D \\frac{\\epsilon_k - \\epsilon_{k-1}}{t_k - t_{k-1}}\n",
        "\\end{align}"
      ]
    },
    {
      "cell_type": "code",
      "metadata": {
        "id": "_slArdBdz7f-"
      },
      "source": [
        "class PIDcontroller:\n",
        "    def __init__(self, Kp, Ki, Kd, MV_bar=0, beta=1 ,gamma=0):\n",
        "        self.Kp = Kp\n",
        "        self.Ki = Ki\n",
        "        self.Kd = Kd\n",
        "        self.MV_bar = MV_bar\n",
        "        self.beta = beta\n",
        "        self.gamma = gamma\n",
        "\n",
        "    def lock(self):\n",
        "        # initialize stored data\n",
        "        eD_prev = 0\n",
        "        t_prev = -1000\n",
        "        P = 0\n",
        "        I = 0\n",
        "        D = 0\n",
        "        \n",
        "        # initial control\n",
        "        MV = self.MV_bar\n",
        "        \n",
        "        while True:\n",
        "            # # yield MV, wait for new t, SP, PV, TR\n",
        "            # t, PV, SP, TR = yield MV\n",
        "            \n",
        "            # # adjust I term so output matches tracking input\n",
        "            # I = TR - MV_bar - P - D\n",
        "\n",
        "            t, PV, SP = yield MV\n",
        "\n",
        "            \n",
        "            # PID calculations\n",
        "            P = self.Kp * (self.beta *  SP - PV)\n",
        "            I = I + self.Ki * (SP - PV) * (t - t_prev)\n",
        "            eD = self.gamma * SP - PV\n",
        "            D = self.Kd * (eD - eD_prev) / (t - t_prev)\n",
        "            MV = self.MV_bar + P + I + D\n",
        "            \n",
        "            # update stored data for next iteration\n",
        "            eD_prev = eD\n",
        "            t_prev = t"
      ],
      "execution_count": 92,
      "outputs": []
    },
    {
      "cell_type": "code",
      "metadata": {
        "id": "eBlSSVu33n_6"
      },
      "source": [
        "tf = 100\n",
        "time = np.linspace(0, tf, tf * 10)\n",
        "setpoint = [0 if t < tf / 2 else 10 for t in time]\n",
        "temperature = [5] * len(time) + np.random.rand(len(time))"
      ],
      "execution_count": 93,
      "outputs": []
    },
    {
      "cell_type": "code",
      "metadata": {
        "id": "cz49yZF036NY"
      },
      "source": [
        "pid_controller = PIDcontroller(1, 0.01, 0)\n",
        "pid = pid_controller.lock()\n",
        "pid.send(None)\n",
        "for i, t in enumerate(time[:-1]):\n",
        "    SP = setpoint[i]\n",
        "    PV = temperature[i]\n",
        "    MV = pid.send([t, PV, SP])\n",
        "    temperature[i + 1] = 0.9 * MV"
      ],
      "execution_count": 105,
      "outputs": []
    },
    {
      "cell_type": "code",
      "metadata": {
        "colab": {
          "base_uri": "https://localhost:8080/",
          "height": 378
        },
        "id": "EXv8E7id36sI",
        "outputId": "14d872f3-50a4-4df3-f91a-ba16811e9df2"
      },
      "source": [
        "fig = plt.figure(figsize=(15, 9))\n",
        "ax1 = plt.subplot(311)\n",
        "ax1.plot(time, setpoint, label=\"SP\")\n",
        "ax1.set_xlabel('time')\n",
        "ax1.legend()\n",
        "ax1.grid()\n",
        "\n",
        "ax2 = plt.subplot(312)\n",
        "ax2.plot(time, temperature, label=\"temperature\")\n",
        "ax2.set_xlabel('time')\n",
        "ax2.legend()\n",
        "ax2.grid()"
      ],
      "execution_count": 106,
      "outputs": [
        {
          "output_type": "display_data",
          "data": {
            "image/png": "[encoded data removed]",
            "text/plain": [
              "<Figure size 1080x648 with 2 Axes>"
            ]
          },
          "metadata": {
            "tags": [],
            "needs_background": "light"
          }
        }
      ]
    },
    {
      "cell_type": "code",
      "metadata": {
        "id": "3Dig8SoG7a2z"
      },
      "source": [
        ""
      ],
      "execution_count": null,
      "outputs": []
    }
  ]
}