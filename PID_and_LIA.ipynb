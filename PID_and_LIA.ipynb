{
  "nbformat": 4,
  "nbformat_minor": 0,
  "metadata": {
    "colab": {
      "name": "PID_and_LIA.ipynb",
      "provenance": [],
      "collapsed_sections": [],
      "authorship_tag": "ABX9TyN3QCb949zm284082FEC4mD",
      "include_colab_link": true
    },
    "kernelspec": {
      "name": "python3",
      "display_name": "Python 3"
    },
    "language_info": {
      "name": "python"
    }
  },
  "cells": [
    {
      "cell_type": "markdown",
      "metadata": {
        "id": "view-in-github",
        "colab_type": "text"
      },
      "source": [
        "<a href=\"https://colab.research.google.com/github/RoyElkabetz/NMR-gyroscope/blob/main/PID_and_LIA.ipynb\" target=\"_parent\"><img src=\"https://colab.research.google.com/assets/colab-badge.svg\" alt=\"Open In Colab\"/></a>"
      ]
    },
    {
      "cell_type": "code",
      "metadata": {
        "id": "h0zOnC7Jzxg6"
      },
      "source": [
        "from collections.abc import Iterator, Generator\n",
        "'https://jckantor.github.io/CBE30338/04.01-Implementing_PID_Control_with_Python_Yield_Statement.html'\n",
        "import numpy as np\n",
        "import matplotlib.pyplot as plt\n",
        "import json\n",
        "import time\n",
        "\n",
        "np.random.seed(216)"
      ],
      "execution_count": 1,
      "outputs": []
    },
    {
      "cell_type": "markdown",
      "metadata": {
        "id": "HHrCxMff1jJC"
      },
      "source": [
        "The PID equation is given by\n",
        "\n",
        "\\begin{align}\n",
        "    MV_k &= \\overline{MV} + K_P \\epsilon_k + K_I \\sum_{k'=0}^{k}\\epsilon_{k'}\\left(t_k - t_{k-1}\\right) + K_D \\frac{\\epsilon_k - \\epsilon_{k-1}}{t_k - t_{k-1}}\n",
        "\\end{align}"
      ]
    },
    {
      "cell_type": "markdown",
      "metadata": {
        "id": "ICsacxqYr5y1"
      },
      "source": [
        "# PID Comtroller using a class with generator"
      ]
    },
    {
      "cell_type": "code",
      "metadata": {
        "id": "_slArdBdz7f-"
      },
      "source": [
        "class PIDcontroller:\n",
        "    def __init__(self, Kp, Ki, Kd, MV_bar=0, beta=1 ,gamma=0):\n",
        "        self.Kp = Kp\n",
        "        self.Ki = Ki\n",
        "        self.Kd = Kd\n",
        "        self.MV_bar = MV_bar\n",
        "        self.beta = beta\n",
        "        self.gamma = gamma\n",
        "\n",
        "    def lock(self):\n",
        "        # initialize stored data\n",
        "        eD_prev = 0\n",
        "        t_prev = -1000\n",
        "        P = 0\n",
        "        I = 0\n",
        "        D = 0\n",
        "        \n",
        "        # initial control\n",
        "        MV = self.MV_bar\n",
        "        \n",
        "        while True:\n",
        "            # # yield MV, wait for new t, SP, PV, TR\n",
        "            # t, PV, SP, TR = yield MV\n",
        "            \n",
        "            # # adjust I term so output matches tracking input\n",
        "            # I = TR - MV_bar - P - D\n",
        "\n",
        "            t, PV, SP = yield MV\n",
        "\n",
        "            \n",
        "            # PID calculations\n",
        "            P = self.Kp * (self.beta *  SP - PV)\n",
        "            I = I + self.Ki * (SP - PV) * (t - t_prev)\n",
        "            eD = self.gamma * SP - PV\n",
        "            D = self.Kd * (eD - eD_prev) / (t - t_prev)\n",
        "            MV = self.MV_bar + P + I + D\n",
        "            \n",
        "            # update stored data for next iteration\n",
        "            eD_prev = eD\n",
        "            t_prev = t"
      ],
      "execution_count": null,
      "outputs": []
    },
    {
      "cell_type": "code",
      "metadata": {
        "id": "eBlSSVu33n_6"
      },
      "source": [
        "tf = 100\n",
        "time = np.linspace(0, tf, tf * 10)\n",
        "setpoint = [0 if t < tf / 2 else 10 for t in time]\n",
        "temperature = [5] * len(time) + np.random.rand(len(time))"
      ],
      "execution_count": null,
      "outputs": []
    },
    {
      "cell_type": "code",
      "metadata": {
        "id": "cz49yZF036NY"
      },
      "source": [
        "pid_controller = PIDcontroller(1, 0.01, 0)\n",
        "pid = pid_controller.lock()\n",
        "pid.send(None)\n",
        "for i, t in enumerate(time[:-1]):\n",
        "    SP = setpoint[i]\n",
        "    PV = temperature[i]\n",
        "    MV = pid.send([t, PV, SP])\n",
        "    temperature[i + 1] = 0.9 * MV"
      ],
      "execution_count": null,
      "outputs": []
    },
    {
      "cell_type": "code",
      "metadata": {
        "colab": {
          "base_uri": "https://localhost:8080/",
          "height": 378
        },
        "id": "EXv8E7id36sI",
        "outputId": "14d872f3-50a4-4df3-f91a-ba16811e9df2"
      },
      "source": [
        "fig = plt.figure(figsize=(15, 9))\n",
        "ax1 = plt.subplot(311)\n",
        "ax1.plot(time, setpoint, label=\"SP\")\n",
        "ax1.set_xlabel('time')\n",
        "ax1.legend()\n",
        "ax1.grid()\n",
        "\n",
        "ax2 = plt.subplot(312)\n",
        "ax2.plot(time, temperature, label=\"temperature\")\n",
        "ax2.set_xlabel('time')\n",
        "ax2.legend()\n",
        "ax2.grid()"
      ],
      "execution_count": null,
      "outputs": [
        {
          "output_type": "display_data",
          "data": {
            "image/png": "[encoded data removed]",
            "text/plain": [
              "<Figure size 1080x648 with 2 Axes>"
            ]
          },
          "metadata": {
            "tags": [],
            "needs_background": "light"
          }
        }
      ]
    },
    {
      "cell_type": "markdown",
      "metadata": {
        "id": "dluPYw1AsD00"
      },
      "source": [
        "# PID Comtroller using a class without a generator"
      ]
    },
    {
      "cell_type": "code",
      "metadata": {
        "id": "3Dig8SoG7a2z"
      },
      "source": [
        "class PIDcontroller:\n",
        "    def __init__(self, Kp, Ki, Kd, fs_system, fs_pid, MV_bar=0, MV_lim_n=-100, MV_lim_p=100, beta=1 ,gamma=0, save_error=False):\n",
        "        \"\"\"\"\"\"\n",
        "        assert fs_system >= fs_pid\n",
        "        self.Kp = Kp\n",
        "        self.Ki = Ki\n",
        "        self.Kd = Kd\n",
        "        self.fs_system = fs_system        # the sampling frequency of the physics\n",
        "        self.fs_pid = fs_pid              # the sampling frequency of the PID\n",
        "        self.MV_bar = MV_bar              # initial MV\n",
        "        self.MV_lim_p = MV_lim_p          # MV upper limit\n",
        "        self.MV_lim_n = MV_lim_n          # MV lower limit\n",
        "        self.beta = beta                  \n",
        "        self.gamma = gamma\n",
        "        self.eD_prev = 0\n",
        "        self.t_prev = -1000\n",
        "        self.I = 0\n",
        "        self.e_saved = [0]\n",
        "        self.save_error = save_error \n",
        "\n",
        "    def lock(self, t, PV, SP, TR=None):\n",
        "        # initialize stored data\n",
        "        P = 0\n",
        "        I = 0\n",
        "        D = 0\n",
        "        \n",
        "        # adjust I term so output matches tracking input\n",
        "        if TR is not None:\n",
        "            self.I = TR - self.MV_bar\n",
        "        \n",
        "        # initial control\n",
        "        MV = self.MV_bar\n",
        "        \n",
        "        # PID calculations\n",
        "        P = self.Kp * (SP - PV)\n",
        "        I = self.I + self.Ki * (SP - PV) * (t -  self.t_prev)\n",
        "        eD = SP - PV\n",
        "        D = self.Kd * (eD - self.eD_prev) / (t -  self.t_prev)\n",
        "        MV = self.MV_bar + P + I + D\n",
        "        # set value to saturated MV if out of range \n",
        "        if MV < self.MV_lim_n:\n",
        "            MV = self.MV_lim_n\n",
        "        if MV > self.MV_lim_p:\n",
        "            MV = self.MV_lim_p\n",
        "        \n",
        "        # update stored data for next iteration\n",
        "        self.eD_prev = eD\n",
        "        self.t_prev = t\n",
        "        self.MV_bar = MV\n",
        "        self.I = I\n",
        "        if self.save_error:\n",
        "            self.e_saved.append(P + I + D)\n",
        "        \n",
        "        return MV"
      ],
      "execution_count": 48,
      "outputs": []
    },
    {
      "cell_type": "code",
      "metadata": {
        "id": "GZynaRZNtURi"
      },
      "source": [
        "fs_system = 1000\n",
        "fs_pid = 100\n",
        "tf = 10\n",
        "time = np.linspace(0, tf, tf * fs_system)\n",
        "setpoint = np.array([32 if t < tf / 2 else 11 for t in time])\n",
        "uselock = np.array([False] * int(len(time) / 3) + [True] * int(len(time) + 1 - len(time) / 3))\n",
        "temperature1 = [25] * (len(time) + 1) + np.random.rand((len(time) + 1))\n",
        "temperature2 = [25] * (len(time) + 1) + np.random.rand((len(time) + 1))"
      ],
      "execution_count": 49,
      "outputs": []
    },
    {
      "cell_type": "code",
      "metadata": {
        "id": "JWc22IfgtW68"
      },
      "source": [
        "pid_controller1 = PIDcontroller(0.7, 0.0001, 0, fs_system, fs_pid, MV_lim_n=-100, MV_lim_p=100, save_error=True)\n",
        "pid_controller2 = PIDcontroller(1, 0, 0, fs_system, fs_pid, MV_lim_n=-10, MV_lim_p=10)\n",
        "for i, t in enumerate(time):\n",
        "    PV1 = temperature1[i]\n",
        "    PV2 = temperature2[i]\n",
        "    SP = setpoint[i]\n",
        "    if uselock[i]:\n",
        "        if t != 0 and t % (pid_controller1.fs_pid ** -1) <= (fs_system ** -1):\n",
        "            temperature1[i + 1] = pid_controller1.lock(t, PV1, SP, PV1)\n",
        "        else:\n",
        "            temperature1[i + 1] = temperature1[i] * (1 + 0.01 * np.random.rand())\n",
        "        if t != 0 and t % (pid_controller2.fs_pid ** -1) <= (fs_system ** -1):\n",
        "            temperature2[i + 1] = pid_controller2.lock(t, PV2, SP)\n",
        "        else:\n",
        "            temperature2[i + 1] = temperature2[i] * (1 + 0.01 * np.random.normal())"
      ],
      "execution_count": 50,
      "outputs": []
    },
    {
      "cell_type": "code",
      "metadata": {
        "colab": {
          "base_uri": "https://localhost:8080/",
          "height": 465
        },
        "id": "h8PZbUe7uMgk",
        "outputId": "67e23286-b082-4fab-c0e7-a344bb2aba2f"
      },
      "source": [
        "nolock = [True if b==False else False for b in uselock]\n",
        "\n",
        "\n",
        "fig = plt.figure(figsize=(15, 11))\n",
        "ax1 = plt.subplot(311)\n",
        "ax1.plot(time[nolock], 0 * setpoint[nolock], label=\"no lock\")\n",
        "ax1.plot(time[uselock], setpoint[uselock], label=\"lock SP\")\n",
        "#ax1.fill_between(range(len(setpoint[uselock])),setpoint[uselock])\n",
        "ax1.set_title('Set Point')\n",
        "ax1.set_xticklabels([])\n",
        "ax1.legend()\n",
        "ax1.grid()\n",
        "\n",
        "ax2 = plt.subplot(312)\n",
        "ax2.plot(time, temperature2[:-1], label=\"temperature - Simple PID\")\n",
        "ax2.plot(time, temperature1[:-1], label=\"temperature - Bumpless Transfer PID\")\n",
        "ax2.plot(time[uselock], setpoint[uselock], label=\"lock SP\")\n",
        "ax2.plot(time[nolock], 0 * setpoint[nolock], label=\"no lock\")\n",
        "ax2.set_xlabel('time')\n",
        "ax2.set_title('Temperature')\n",
        "ax2.legend()\n",
        "ax2.grid()\n"
      ],
      "execution_count": 51,
      "outputs": [
        {
          "output_type": "display_data",
          "data": {
            "image/png": "[encoded data removed]",
            "text/plain": [
              "<Figure size 1080x792 with 2 Axes>"
            ]
          },
          "metadata": {
            "tags": [],
            "needs_background": "light"
          }
        }
      ]
    },
    {
      "cell_type": "code",
      "metadata": {
        "colab": {
          "base_uri": "https://localhost:8080/",
          "height": 282
        },
        "id": "Sn6c6slU8xiI",
        "outputId": "740318b1-0152-4ee0-83c2-96e9209d1d0f"
      },
      "source": [
        "plt.plot(pid_controller1.e_saved)"
      ],
      "execution_count": 52,
      "outputs": [
        {
          "output_type": "execute_result",
          "data": {
            "text/plain": [
              "[<matplotlib.lines.Line2D at 0x7f0891205950>]"
            ]
          },
          "metadata": {
            "tags": []
          },
          "execution_count": 52
        },
        {
          "output_type": "display_data",
          "data": {
            "image/png": "[encoded data removed]",
            "text/plain": [
              "<Figure size 432x288 with 1 Axes>"
            ]
          },
          "metadata": {
            "tags": [],
            "needs_background": "light"
          }
        }
      ]
    },
    {
      "cell_type": "code",
      "metadata": {
        "id": "MUOaR29q9Zt6"
      },
      "source": [
        ""
      ],
      "execution_count": null,
      "outputs": []
    }
  ]
}